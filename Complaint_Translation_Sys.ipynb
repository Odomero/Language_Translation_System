{
 "cells": [
  {
   "cell_type": "markdown",
   "metadata": {},
   "source": [
    "# LANGUAGE TRANSLATION SYSTEM"
   ]
  },
  {
   "cell_type": "code",
   "execution_count": 1,
   "metadata": {},
   "outputs": [],
   "source": [
    "#importing libraries\n",
    "\n",
    "import random\n",
    "import json\n",
    "import requests"
   ]
  },
  {
   "cell_type": "code",
   "execution_count": 2,
   "metadata": {},
   "outputs": [],
   "source": [
    "#initializing a dictionary to warehouse all complaints for the team\n",
    "\n",
    "complaints_log ={}"
   ]
  },
  {
   "cell_type": "code",
   "execution_count": 3,
   "metadata": {},
   "outputs": [],
   "source": [
    "def complaint_reg():\n",
    "    '''\n",
    "    This function registers a Customer's complaint\n",
    "    '''\n",
    "    name = input(\"Enter your first name: \")\n",
    "    while True:\n",
    "        print(f'Hello {name} !! We are here to serve you')\n",
    "        complain = str(input(\"Kindly register your complain: \"))\n",
    "        if complain != \"\":\n",
    "            num = random.randint(100,600)\n",
    "            id = name[1:4] + str(num)\n",
    "            complaints_log[id] = {\"Name\": name, \"Complaint\":complain}\n",
    "            print(f\"Complaint successfuly submitted with ID {id}!!\")\n",
    "            break"
   ]
  },
  {
   "cell_type": "code",
   "execution_count": 4,
   "metadata": {},
   "outputs": [],
   "source": [
    "def complaint_pro(complaint_id):\n",
    "    '''\n",
    "    This function picks a complaint from the complaint_dic based on the ID\n",
    "    '''\n",
    "    while complaint_id not in complaints_log.keys():\n",
    "        print(f\"The id {complaint_id} does not exist\")\n",
    "        complaint_id = input(\"Enter a valid complaint ID: \")\n",
    "    if complaint_id in complaints_log.keys():\n",
    "        comp = complaints_log[complaint_id]\n",
    "        return comp"
   ]
  },
  {
   "cell_type": "code",
   "execution_count": 5,
   "metadata": {},
   "outputs": [],
   "source": [
    "def complaint_det(comp):\n",
    "    '''\n",
    "    This function detects the complaint language\n",
    "    '''\n",
    "    url = \"https://google-translate1.p.rapidapi.com/language/translate/v2/detect\"\n",
    "\n",
    "    payload = f\"q={comp}\"\n",
    "    headers = {\n",
    "        'content-type': \"application/x-www-form-urlencoded\",\n",
    "        'accept-encoding': \"application/gzip\",\n",
    "        'x-rapidapi-key': ${{secrets.GOOGLE_TRANSLATE}},\n",
    "        'x-rapidapi-host': \"google-translate1.p.rapidapi.com\"\n",
    "        }\n",
    "\n",
    "    response = requests.request(\"POST\", url, data=payload.encode('utf-8'), headers=headers)\n",
    "\n",
    "    dic = json.loads(response.text)\n",
    "    \n",
    "    return \"Complaint language:\" + dic[\"data\"][\"detections\"][0][0][\"language\"]"
   ]
  },
  {
   "cell_type": "code",
   "execution_count": 6,
   "metadata": {},
   "outputs": [],
   "source": [
    "def complaint_trans(comp,lang_t,lang_s):\n",
    "    '''\n",
    "    This fuction translates the complaints original language to a target language\n",
    "    '''\n",
    "    url = \"https://google-translate1.p.rapidapi.com/language/translate/v2\"\n",
    "\n",
    "    payload = f\"q={comp}&target={lang_t}&source={lang_s}\"\n",
    "    headers = {\n",
    "        'content-type': \"application/x-www-form-urlencoded\",\n",
    "        'accept-encoding': \"application/gzip\",\n",
    "        'x-rapidapi-key': ${{secrets.GOOGLE_TRANSLATE}},\n",
    "        'x-rapidapi-host': \"google-translate1.p.rapidapi.com\"\n",
    "        }\n",
    "\n",
    "    response = requests.request(\"POST\", url, data=payload.encode('utf-8'), headers=headers)\n",
    "\n",
    "    dic = json.loads(response.text)\n",
    "    return f\"Original text: {comp} \\nTranslated text: \" + dic[\"data\"][\"translations\"][0][\"translatedText\"]"
   ]
  },
  {
   "cell_type": "code",
   "execution_count": 7,
   "metadata": {},
   "outputs": [],
   "source": [
    "def main():\n",
    "    '''\n",
    "    This function is a system that\n",
    "    registers Customer's complaint,\n",
    "    detect complaint's language,\n",
    "    and translates complaint's language.\n",
    "    '''\n",
    "    \n",
    "    print(\"Welcome to Didi's Beauty House\")\n",
    "    runtime = 1\n",
    "    while runtime:\n",
    "        checker1 = input(\"Enter 0 for Customer's login, 1 for Employee's login, 2 to Quit : \")\n",
    "        if checker1 == \"0\":\n",
    "            checker2 = input(\"Enter 0 to register a complaint, 1 to quit: \")\n",
    "            if checker2 == \"0\":\n",
    "                complaint_reg()\n",
    "            else:\n",
    "                break\n",
    "        elif checker1 == \"1\":\n",
    "            team_id = input(\"Enter team id: \") #assuming team id is CS\n",
    "            if team_id == \"CS\": #assuming team id is CS\n",
    "                print(complaints_log)\n",
    "                checker3 = input(\"Enter 0 to pick a complain, 1 to detect complaint lang, 2 to translate complaint lang, 3 to Quit: \")\n",
    "                if checker3 == \"0\":\n",
    "                    complaint_id = input(\"Enter a complaint ID: \")\n",
    "                    comp_process = complaint_pro(complaint_id)\n",
    "                    print(comp_process)\n",
    "                elif checker3 == \"1\":\n",
    "                    complaint_id = input(\"Enter a complaint ID: \")\n",
    "                    comp = complaint_pro(complaint_id)\n",
    "                    compl = comp['Complaint'] #extracting the complaint from the complaint_dic\n",
    "                    print(complaint_det(compl))\n",
    "                elif checker3 == \"2\":\n",
    "                    complaint_id = input(\"Enter a complaint ID: \")\n",
    "                    comp = complaint_pro(complaint_id)['Complaint']\n",
    "                    comp_lang = complaint_det(comp)\n",
    "                    lang_sou = comp_lang.split(\":\")[-1]\n",
    "                    try:\n",
    "                        lang_tran = str(input(\"Enter language code for translation: \")).lower()\n",
    "                        print(complaint_trans(comp,lang_tran,lang_sou))\n",
    "                    except:\n",
    "                        print(\"Invalid value!! Enter a valid language code \\n Ref: https://developers.google.com/admin-sdk/directory/v1/languages\")\n",
    "                        continue\n",
    "                else:\n",
    "                    break\n",
    "            else:\n",
    "                print(\"Invalid login ID, try again\")\n",
    "        elif checker1 == \"2\":\n",
    "            break\n",
    "        else:\n",
    "            print(\"Invalid value, try again\")\n",
    "            main()\n",
    "                         "
   ]
  },
  {
   "cell_type": "code",
   "execution_count": 8,
   "metadata": {},
   "outputs": [
    {
     "name": "stdout",
     "output_type": "stream",
     "text": [
      "Welcome to Didi's Beauty House\n",
      "Enter 0 for Customer's login, 1 for Employee's login, 2 to Quit : 0\n",
      "Enter 0 to register a complaint, 1 to quit: 0\n",
      "Enter your first name: Ujiro\n",
      "Hello Ujiro !! We are here to serve you\n",
      "Kindly register your complain: Bad makeup\n",
      "Complaint successfuly submitted with ID jir241!!\n",
      "Enter 0 for Customer's login, 1 for Employee's login, 2 to Quit : 0\n",
      "Enter 0 to register a complaint, 1 to quit: 0\n",
      "Enter your first name: Omokahfe\n",
      "Hello Omokahfe !! We are here to serve you\n",
      "Kindly register your complain: nadmierny rumieniec\n",
      "Complaint successfuly submitted with ID mok411!!\n",
      "Enter 0 for Customer's login, 1 for Employee's login, 2 to Quit : 0\n",
      "Enter 0 to register a complaint, 1 to quit: 0\n",
      "Enter your first name: Veronica\n",
      "Hello Veronica !! We are here to serve you\n",
      "Kindly register your complain: mauvais service\n",
      "Complaint successfuly submitted with ID ero300!!\n",
      "Enter 0 for Customer's login, 1 for Employee's login, 2 to Quit : 1\n",
      "Enter team id: CS\n",
      "{'jir241': {'Name': 'Ujiro', 'Complaint': 'Bad makeup'}, 'mok411': {'Name': 'Omokahfe', 'Complaint': 'nadmierny rumieniec'}, 'ero300': {'Name': 'Veronica', 'Complaint': 'mauvais service'}}\n",
      "Enter 0 to pick a complain, 1 to detect complaint lang, 2 to translate complaint lang, 3 to Quit: 0\n",
      "Enter a complaint ID: ero300\n",
      "{'Name': 'Veronica', 'Complaint': 'mauvais service'}\n",
      "Enter 0 for Customer's login, 1 for Employee's login, 2 to Quit : 1\n",
      "Enter team id: CS\n",
      "{'jir241': {'Name': 'Ujiro', 'Complaint': 'Bad makeup'}, 'mok411': {'Name': 'Omokahfe', 'Complaint': 'nadmierny rumieniec'}, 'ero300': {'Name': 'Veronica', 'Complaint': 'mauvais service'}}\n",
      "Enter 0 to pick a complain, 1 to detect complaint lang, 2 to translate complaint lang, 3 to Quit: 1\n",
      "Enter a complaint ID: mok411\n",
      "Complaint language:pl\n",
      "Enter 0 for Customer's login, 1 for Employee's login, 2 to Quit : 1\n",
      "Enter team id: CS\n",
      "{'jir241': {'Name': 'Ujiro', 'Complaint': 'Bad makeup'}, 'mok411': {'Name': 'Omokahfe', 'Complaint': 'nadmierny rumieniec'}, 'ero300': {'Name': 'Veronica', 'Complaint': 'mauvais service'}}\n",
      "Enter 0 to pick a complain, 1 to detect complaint lang, 2 to translate complaint lang, 3 to Quit: 2\n",
      "Enter a complaint ID: jir241\n",
      "Enter language code for translation: fr\n",
      "Original text: Bad makeup \n",
      "Translated text: Mauvais maquillage\n",
      "Enter 0 for Customer's login, 1 for Employee's login, 2 to Quit : 2\n"
     ]
    }
   ],
   "source": [
    "main()"
   ]
  },
  {
   "cell_type": "code",
   "execution_count": null,
   "metadata": {},
   "outputs": [],
   "source": []
  }
 ],
 "metadata": {
  "kernelspec": {
   "display_name": "Python 3",
   "language": "python",
   "name": "python3"
  },
  "language_info": {
   "codemirror_mode": {
    "name": "ipython",
    "version": 3
   },
   "file_extension": ".py",
   "mimetype": "text/x-python",
   "name": "python",
   "nbconvert_exporter": "python",
   "pygments_lexer": "ipython3",
   "version": "3.8.5"
  },
  "toc": {
   "base_numbering": 1,
   "nav_menu": {},
   "number_sections": true,
   "sideBar": true,
   "skip_h1_title": false,
   "title_cell": "Table of Contents",
   "title_sidebar": "Contents",
   "toc_cell": false,
   "toc_position": {},
   "toc_section_display": true,
   "toc_window_display": false
  }
 },
 "nbformat": 4,
 "nbformat_minor": 4
}
